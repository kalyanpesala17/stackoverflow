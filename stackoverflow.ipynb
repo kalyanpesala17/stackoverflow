{
 "cells": [
  {
   "cell_type": "markdown",
   "metadata": {},
   "source": [
    "## Project Motivation\n",
    "    For this project, I was interestested in using Stack Overflow data from 2017 to better understand:\n",
    "\n",
    "    What are the most important things to look when you are applying for a job?\n",
    "    What are the essential skills that recruiters are looking for?\n",
    "    Outside of formal education, What other education types gave an edge to developers?\n",
    "    What do developers prefer, Tabs or spaces?"
   ]
  },
  {
   "cell_type": "code",
   "execution_count": 1,
   "metadata": {},
   "outputs": [],
   "source": [
    "import pandas as pd\n",
    "import numpy as np\n",
    "import matplotlib.pyplot as plt\n",
    "import seaborn as sb\n",
    "\n",
    "import statsmodels.api as sm\n",
    "from sklearn.preprocessing import StandardScaler\n",
    "\n",
    "import warnings\n",
    "warnings.filterwarnings(\"ignore\")"
   ]
  },
  {
   "cell_type": "code",
   "execution_count": 2,
   "metadata": {},
   "outputs": [
    {
     "data": {
      "text/plain": [
       "(51392, 154)"
      ]
     },
     "execution_count": 2,
     "metadata": {},
     "output_type": "execute_result"
    }
   ],
   "source": [
    "df = pd.read_csv('survey_results_public.csv')\n",
    "df.shape"
   ]
  },
  {
   "cell_type": "code",
   "execution_count": 3,
   "metadata": {},
   "outputs": [
    {
     "data": {
      "text/plain": [
       "Index(['Respondent', 'Professional', 'ProgramHobby', 'Country', 'University',\n",
       "       'EmploymentStatus', 'FormalEducation'],\n",
       "      dtype='object')"
      ]
     },
     "execution_count": 3,
     "metadata": {},
     "output_type": "execute_result"
    }
   ],
   "source": [
    "#olumns which have no missing values \n",
    "df.columns[df.isnull().mean() == 0]"
   ]
  },
  {
   "cell_type": "code",
   "execution_count": 4,
   "metadata": {},
   "outputs": [
    {
     "data": {
      "text/plain": [
       "Index(['YearsCodedJobPast', 'WebDeveloperType', 'MobileDeveloperType',\n",
       "       'NonDeveloperType', 'ExCoderReturn', 'ExCoderNotForMe',\n",
       "       'ExCoderBalance', 'ExCoder10Years', 'ExCoderBelonged', 'ExCoderSkills',\n",
       "       'ExCoderWillNotCode', 'ExCoderActive', 'TimeAfterBootcamp',\n",
       "       'ExpectedSalary'],\n",
       "      dtype='object')"
      ]
     },
     "execution_count": 4,
     "metadata": {},
     "output_type": "execute_result"
    }
   ],
   "source": [
    "#columns which have more nulls\n",
    "df.columns[df.isnull().mean() > 0.75]"
   ]
  },
  {
   "cell_type": "code",
   "execution_count": 5,
   "metadata": {},
   "outputs": [
    {
     "data": {
      "text/plain": [
       "50442"
      ]
     },
     "execution_count": 5,
     "metadata": {},
     "output_type": "execute_result"
    }
   ],
   "source": [
    "df[['ExCoderReturn', 'ExCoderNotForMe',\n",
    "       'ExCoderBalance', 'ExCoder10Years', 'ExCoderBelonged', 'ExCoderSkills',\n",
    "       'ExCoderWillNotCode', 'ExCoderActive']].isnull().apply(lambda x: all(x), axis=1).sum()\n",
    "\n",
    "# we dont have enough data to answer the questions related to exCoder."
   ]
  },
  {
   "cell_type": "markdown",
   "metadata": {},
   "source": [
    "### Asses Job Industry\n",
    "\n",
    "    Survey Question - When you're assessing potential jobs to apply to, how important are each of the following to you? \n",
    "    Job Industry\n",
    "    Job Role\n",
    "    Job Experience in the description\n",
    "    Job Deprtment\n",
    "    Technologies in Job\n",
    "    How Projects are managed at company\n",
    "    Job Compensation\n",
    "    Office Environment\n",
    "    Job Commute\n",
    "    Work from Home/Remote opportunity/\n",
    "    Company Leaders\n",
    "    Opportunity for Proffesional Development\n",
    "    Diversity of the company\n",
    "    Company's Product\n",
    "    Financial perfomance of the comapny\n",
    "    \n",
    "    \"What are the most important things to look when you are applying for a job?\""
   ]
  },
  {
   "cell_type": "code",
   "execution_count": 6,
   "metadata": {},
   "outputs": [
    {
     "data": {
      "text/plain": [
       "Important               8316\n",
       "Very important          6952\n",
       "Somewhat important      5116\n",
       "Not very important      1313\n",
       "Not at all important     276\n",
       "Name: AssessJobCommute, dtype: int64"
      ]
     },
     "execution_count": 6,
     "metadata": {},
     "output_type": "execute_result"
    }
   ],
   "source": [
    "df.AssessJobCommute.value_counts()"
   ]
  },
  {
   "cell_type": "code",
   "execution_count": 7,
   "metadata": {},
   "outputs": [],
   "source": [
    "labels_JobAssess = ['Job Industry',\n",
    "'Job Role',\n",
    "'Job Experience in the description',\n",
    "'Job Deprtment',\n",
    "'Technologies in Job',\n",
    "'How Projects are managed at company',\n",
    "'Job Compensation',\n",
    "'Office Environment',\n",
    "'Job Commute',\n",
    "'Work from Home/Remote opportunity',\n",
    "'Company Leaders',\n",
    "'Opportunity for Proffesional Development',\n",
    "'Diversity of the company',\n",
    "\"Company's Product\",\n",
    "'Financial perfomance of the comapny']"
   ]
  },
  {
   "cell_type": "code",
   "execution_count": 8,
   "metadata": {},
   "outputs": [
    {
     "data": {
      "text/html": [
       "<div>\n",
       "<style scoped>\n",
       "    .dataframe tbody tr th:only-of-type {\n",
       "        vertical-align: middle;\n",
       "    }\n",
       "\n",
       "    .dataframe tbody tr th {\n",
       "        vertical-align: top;\n",
       "    }\n",
       "\n",
       "    .dataframe thead th {\n",
       "        text-align: right;\n",
       "    }\n",
       "</style>\n",
       "<table border=\"1\" class=\"dataframe\">\n",
       "  <thead>\n",
       "    <tr style=\"text-align: right;\">\n",
       "      <th></th>\n",
       "      <th>AssessJobIndustry</th>\n",
       "      <th>AssessJobRole</th>\n",
       "      <th>AssessJobExp</th>\n",
       "      <th>AssessJobDept</th>\n",
       "      <th>AssessJobTech</th>\n",
       "      <th>AssessJobProjects</th>\n",
       "      <th>AssessJobCompensation</th>\n",
       "      <th>AssessJobOffice</th>\n",
       "      <th>AssessJobCommute</th>\n",
       "      <th>AssessJobRemote</th>\n",
       "      <th>AssessJobLeaders</th>\n",
       "      <th>AssessJobProfDevel</th>\n",
       "      <th>AssessJobDiversity</th>\n",
       "      <th>AssessJobProduct</th>\n",
       "      <th>AssessJobFinances</th>\n",
       "    </tr>\n",
       "  </thead>\n",
       "  <tbody>\n",
       "    <tr>\n",
       "      <th>0</th>\n",
       "      <td>Very important</td>\n",
       "      <td>Very important</td>\n",
       "      <td>Important</td>\n",
       "      <td>Very important</td>\n",
       "      <td>Very important</td>\n",
       "      <td>Very important</td>\n",
       "      <td>Important</td>\n",
       "      <td>Very important</td>\n",
       "      <td>Very important</td>\n",
       "      <td>Very important</td>\n",
       "      <td>Very important</td>\n",
       "      <td>Very important</td>\n",
       "      <td>Somewhat important</td>\n",
       "      <td>Not very important</td>\n",
       "      <td>Somewhat important</td>\n",
       "    </tr>\n",
       "    <tr>\n",
       "      <th>1</th>\n",
       "      <td>NaN</td>\n",
       "      <td>NaN</td>\n",
       "      <td>NaN</td>\n",
       "      <td>NaN</td>\n",
       "      <td>NaN</td>\n",
       "      <td>NaN</td>\n",
       "      <td>NaN</td>\n",
       "      <td>NaN</td>\n",
       "      <td>NaN</td>\n",
       "      <td>NaN</td>\n",
       "      <td>NaN</td>\n",
       "      <td>NaN</td>\n",
       "      <td>NaN</td>\n",
       "      <td>NaN</td>\n",
       "      <td>NaN</td>\n",
       "    </tr>\n",
       "    <tr>\n",
       "      <th>2</th>\n",
       "      <td>NaN</td>\n",
       "      <td>NaN</td>\n",
       "      <td>NaN</td>\n",
       "      <td>NaN</td>\n",
       "      <td>NaN</td>\n",
       "      <td>NaN</td>\n",
       "      <td>NaN</td>\n",
       "      <td>NaN</td>\n",
       "      <td>NaN</td>\n",
       "      <td>NaN</td>\n",
       "      <td>NaN</td>\n",
       "      <td>NaN</td>\n",
       "      <td>NaN</td>\n",
       "      <td>NaN</td>\n",
       "      <td>NaN</td>\n",
       "    </tr>\n",
       "    <tr>\n",
       "      <th>3</th>\n",
       "      <td>Somewhat important</td>\n",
       "      <td>Somewhat important</td>\n",
       "      <td>Somewhat important</td>\n",
       "      <td>Important</td>\n",
       "      <td>Important</td>\n",
       "      <td>Very important</td>\n",
       "      <td>Important</td>\n",
       "      <td>Very important</td>\n",
       "      <td>Important</td>\n",
       "      <td>Somewhat important</td>\n",
       "      <td>Not very important</td>\n",
       "      <td>Very important</td>\n",
       "      <td>Important</td>\n",
       "      <td>Very important</td>\n",
       "      <td>Very important</td>\n",
       "    </tr>\n",
       "    <tr>\n",
       "      <th>4</th>\n",
       "      <td>NaN</td>\n",
       "      <td>NaN</td>\n",
       "      <td>NaN</td>\n",
       "      <td>NaN</td>\n",
       "      <td>NaN</td>\n",
       "      <td>NaN</td>\n",
       "      <td>NaN</td>\n",
       "      <td>NaN</td>\n",
       "      <td>NaN</td>\n",
       "      <td>NaN</td>\n",
       "      <td>NaN</td>\n",
       "      <td>NaN</td>\n",
       "      <td>NaN</td>\n",
       "      <td>NaN</td>\n",
       "      <td>NaN</td>\n",
       "    </tr>\n",
       "  </tbody>\n",
       "</table>\n",
       "</div>"
      ],
      "text/plain": [
       "    AssessJobIndustry       AssessJobRole        AssessJobExp   AssessJobDept  \\\n",
       "0      Very important      Very important           Important  Very important   \n",
       "1                 NaN                 NaN                 NaN             NaN   \n",
       "2                 NaN                 NaN                 NaN             NaN   \n",
       "3  Somewhat important  Somewhat important  Somewhat important       Important   \n",
       "4                 NaN                 NaN                 NaN             NaN   \n",
       "\n",
       "    AssessJobTech AssessJobProjects AssessJobCompensation AssessJobOffice  \\\n",
       "0  Very important    Very important             Important  Very important   \n",
       "1             NaN               NaN                   NaN             NaN   \n",
       "2             NaN               NaN                   NaN             NaN   \n",
       "3       Important    Very important             Important  Very important   \n",
       "4             NaN               NaN                   NaN             NaN   \n",
       "\n",
       "  AssessJobCommute     AssessJobRemote    AssessJobLeaders AssessJobProfDevel  \\\n",
       "0   Very important      Very important      Very important     Very important   \n",
       "1              NaN                 NaN                 NaN                NaN   \n",
       "2              NaN                 NaN                 NaN                NaN   \n",
       "3        Important  Somewhat important  Not very important     Very important   \n",
       "4              NaN                 NaN                 NaN                NaN   \n",
       "\n",
       "   AssessJobDiversity    AssessJobProduct   AssessJobFinances  \n",
       "0  Somewhat important  Not very important  Somewhat important  \n",
       "1                 NaN                 NaN                 NaN  \n",
       "2                 NaN                 NaN                 NaN  \n",
       "3           Important      Very important      Very important  \n",
       "4                 NaN                 NaN                 NaN  "
      ]
     },
     "execution_count": 8,
     "metadata": {},
     "output_type": "execute_result"
    }
   ],
   "source": [
    "#to get the columns regarding Job Assess\n",
    "Assess_cols = [] \n",
    "for col in df.columns:\n",
    "    if 'AssessJob' in col:\n",
    "        Assess_cols.append(col)   \n",
    "        \n",
    "df[Assess_cols].head()"
   ]
  },
  {
   "cell_type": "markdown",
   "metadata": {},
   "source": [
    "#### For all these columns we need to calculate percentage of respondents for our desired importance level and plot in a single bar chart in descending order to comapre."
   ]
  },
  {
   "cell_type": "code",
   "execution_count": 9,
   "metadata": {},
   "outputs": [],
   "source": [
    "# to get the columns order for bar chart.\n",
    "def sort_cols(columns, important_level):\n",
    "    '''\n",
    "    Sorts the Job Assess columns in ascending order based on counts\n",
    "    \n",
    "    Arguments:\n",
    "    List of Job Assess columns, Importance Level of columns(string)\n",
    "    \n",
    "    returns:\n",
    "    An numpy array of Sorted Columns in ascending order based on the counts of Importance Level in each Job Assess column.\n",
    "    \n",
    "    '''\n",
    "    imp_level_counts = pd.Series() #to store the counts of specified important level for each column\n",
    "    \n",
    "    for col in columns:\n",
    "        imp_level_counts = imp_level_counts.append(\n",
    "            df[col].value_counts()[df[col].value_counts().index == important_level])\n",
    "    \n",
    "    #to get the sorted column names convert our series to dataframe.\n",
    "    df_order = imp_level_counts.reset_index() \n",
    "    df_order['index'] = columns\n",
    "    df_order.columns = ['col','value']\n",
    "    return df_order.sort_values(by = 'value', ascending = True)['col'].values\n",
    "\n",
    "# best use case how to change the bar position and height to get the gap between them.\n",
    "\n",
    "def plot_multiple_cols_bar(columns, important_level,title,labels,color = 'tab:blue'):\n",
    "    '''\n",
    "    Plots bar chart for Job Assess columns and their percentages.\n",
    "    \n",
    "    Arguments:\n",
    "    List of Sorted Job Assess columns, Importance Level of columns(string),plot title,yticks labels, color \n",
    "    \n",
    "    returns:\n",
    "    None. Plots a Bar chart.\n",
    "    '''\n",
    "    plt.figure(figsize = (9,8))\n",
    "    i = 0 #for increementing the position in bar plot\n",
    "    \n",
    "    for col in columns:\n",
    "        ax = plt.subplot(111)\n",
    "        y = (df[df[col] == important_level].shape[0] /df.shape[0]) * 100\n",
    "        ax.barh(i, width = y,height = 0.6, color = color)\n",
    "        ax.text(y + 0.5, i - 0.1, \"{:.2f}\".format(y) + '%', color='black', fontweight='bold')\n",
    "        i += 0.8 #increementing bars positions\n",
    "        \n",
    "    ax.set_yticks(np.arange(0,len(columns) * 0.8,0.8)) #for setting the ticks based on column length\n",
    "    ax.set_yticklabels(labels,fontsize = 12)\n",
    "    ax.set_xlim(0,22)\n",
    "    ax.get_xaxis().set_ticks([]) #to remove the xticks\n",
    "    ax.set_title(title , fontsize = 24)\n",
    "    plt.xlabel('Percentage of Developers marked as important',fontsize = 12)"
   ]
  },
  {
   "cell_type": "code",
   "execution_count": 10,
   "metadata": {},
   "outputs": [
    {
     "data": {
      "image/png": "[encoded data removed]",
      "text/plain": [
       "<Figure size 648x576 with 1 Axes>"
      ]
     },
     "metadata": {
      "needs_background": "light"
     },
     "output_type": "display_data"
    }
   ],
   "source": [
    "#bar plot for 'Very important' Level.\n",
    "#default color is blue\n",
    "plot_multiple_cols_bar(list(sort_cols(Assess_cols,'Very important')), 'Very important',\n",
    "                       \"Looking about the company is more important than the job role.\",\n",
    "                      labels_JobAssess)"
   ]
  },
  {
   "cell_type": "markdown",
   "metadata": {},
   "source": [
    "Categories which have more than 10% of respondents marked as important are all related to company like the company’s financial performance, product, diversity, and the opportunity for professional development. For job-specific related information job commute has high percentage of all, 9.33%. Job Role, Job Industry, experience, Department are at bottom. "
   ]
  },
  {
   "cell_type": "markdown",
   "metadata": {},
   "source": [
    "### Important Hiring Skill\n",
    "    Survey Question - Congratulations! You've just been put in charge of technical recruiting at Globex, a multinational high- tech firm. This job comes with a corner office, and you have an experienced staff of recruiters at your disposal. They want to know what they should prioritize when recruiting software developers. How important should each of the following be in Globex's hiring process?\n",
    "\n",
    "    Algorithms\n",
    "    Experience with the tools used by employer\n",
    "    Communication\n",
    "    Contributions to Open Source projects\n",
    "    Experience with project management tools\n",
    "    Previous companies worked at\n",
    "    Previous job titles held\n",
    "    Educational credentials\n",
    "    Stackoverflow reputation\n",
    "    Track record of Getting Things Done\n",
    "    \n",
    "    What are the important skills in the hiring process when recruiting software developers?"
   ]
  },
  {
   "cell_type": "code",
   "execution_count": 11,
   "metadata": {},
   "outputs": [
    {
     "data": {
      "text/html": [
       "<div>\n",
       "<style scoped>\n",
       "    .dataframe tbody tr th:only-of-type {\n",
       "        vertical-align: middle;\n",
       "    }\n",
       "\n",
       "    .dataframe tbody tr th {\n",
       "        vertical-align: top;\n",
       "    }\n",
       "\n",
       "    .dataframe thead th {\n",
       "        text-align: right;\n",
       "    }\n",
       "</style>\n",
       "<table border=\"1\" class=\"dataframe\">\n",
       "  <thead>\n",
       "    <tr style=\"text-align: right;\">\n",
       "      <th></th>\n",
       "      <th>ImportantHiringAlgorithms</th>\n",
       "      <th>ImportantHiringTechExp</th>\n",
       "      <th>ImportantHiringCommunication</th>\n",
       "      <th>ImportantHiringOpenSource</th>\n",
       "      <th>ImportantHiringPMExp</th>\n",
       "      <th>ImportantHiringCompanies</th>\n",
       "      <th>ImportantHiringTitles</th>\n",
       "      <th>ImportantHiringEducation</th>\n",
       "      <th>ImportantHiringRep</th>\n",
       "      <th>ImportantHiringGettingThingsDone</th>\n",
       "    </tr>\n",
       "  </thead>\n",
       "  <tbody>\n",
       "    <tr>\n",
       "      <th>0</th>\n",
       "      <td>Important</td>\n",
       "      <td>Important</td>\n",
       "      <td>Important</td>\n",
       "      <td>Somewhat important</td>\n",
       "      <td>Important</td>\n",
       "      <td>Not very important</td>\n",
       "      <td>Not very important</td>\n",
       "      <td>Not at all important</td>\n",
       "      <td>Somewhat important</td>\n",
       "      <td>Very important</td>\n",
       "    </tr>\n",
       "    <tr>\n",
       "      <th>1</th>\n",
       "      <td>Important</td>\n",
       "      <td>Important</td>\n",
       "      <td>Important</td>\n",
       "      <td>Important</td>\n",
       "      <td>Somewhat important</td>\n",
       "      <td>Somewhat important</td>\n",
       "      <td>Not very important</td>\n",
       "      <td>Somewhat important</td>\n",
       "      <td>Not very important</td>\n",
       "      <td>Very important</td>\n",
       "    </tr>\n",
       "    <tr>\n",
       "      <th>2</th>\n",
       "      <td>NaN</td>\n",
       "      <td>NaN</td>\n",
       "      <td>NaN</td>\n",
       "      <td>NaN</td>\n",
       "      <td>NaN</td>\n",
       "      <td>NaN</td>\n",
       "      <td>NaN</td>\n",
       "      <td>NaN</td>\n",
       "      <td>NaN</td>\n",
       "      <td>NaN</td>\n",
       "    </tr>\n",
       "    <tr>\n",
       "      <th>3</th>\n",
       "      <td>Somewhat important</td>\n",
       "      <td>Somewhat important</td>\n",
       "      <td>Very important</td>\n",
       "      <td>Very important</td>\n",
       "      <td>Somewhat important</td>\n",
       "      <td>Somewhat important</td>\n",
       "      <td>Not very important</td>\n",
       "      <td>Not very important</td>\n",
       "      <td>Important</td>\n",
       "      <td>Very important</td>\n",
       "    </tr>\n",
       "    <tr>\n",
       "      <th>4</th>\n",
       "      <td>NaN</td>\n",
       "      <td>NaN</td>\n",
       "      <td>NaN</td>\n",
       "      <td>NaN</td>\n",
       "      <td>NaN</td>\n",
       "      <td>NaN</td>\n",
       "      <td>NaN</td>\n",
       "      <td>NaN</td>\n",
       "      <td>NaN</td>\n",
       "      <td>NaN</td>\n",
       "    </tr>\n",
       "  </tbody>\n",
       "</table>\n",
       "</div>"
      ],
      "text/plain": [
       "  ImportantHiringAlgorithms ImportantHiringTechExp  \\\n",
       "0                 Important              Important   \n",
       "1                 Important              Important   \n",
       "2                       NaN                    NaN   \n",
       "3        Somewhat important     Somewhat important   \n",
       "4                       NaN                    NaN   \n",
       "\n",
       "  ImportantHiringCommunication ImportantHiringOpenSource ImportantHiringPMExp  \\\n",
       "0                    Important        Somewhat important            Important   \n",
       "1                    Important                 Important   Somewhat important   \n",
       "2                          NaN                       NaN                  NaN   \n",
       "3               Very important            Very important   Somewhat important   \n",
       "4                          NaN                       NaN                  NaN   \n",
       "\n",
       "  ImportantHiringCompanies ImportantHiringTitles ImportantHiringEducation  \\\n",
       "0       Not very important    Not very important     Not at all important   \n",
       "1       Somewhat important    Not very important       Somewhat important   \n",
       "2                      NaN                   NaN                      NaN   \n",
       "3       Somewhat important    Not very important       Not very important   \n",
       "4                      NaN                   NaN                      NaN   \n",
       "\n",
       "   ImportantHiringRep ImportantHiringGettingThingsDone  \n",
       "0  Somewhat important                   Very important  \n",
       "1  Not very important                   Very important  \n",
       "2                 NaN                              NaN  \n",
       "3           Important                   Very important  \n",
       "4                 NaN                              NaN  "
      ]
     },
     "execution_count": 11,
     "metadata": {},
     "output_type": "execute_result"
    }
   ],
   "source": [
    "#get Important Hiring skills columns from data frame\n",
    "Important_skill_cols = []\n",
    "for col in df.columns:\n",
    "    if col.startswith('ImportantHiring'):\n",
    "        Important_skill_cols.append(col)\n",
    "        \n",
    "df[Important_skill_cols].head()"
   ]
  },
  {
   "cell_type": "markdown",
   "metadata": {},
   "source": [
    "Use plot_multiple_cols_bar function to plot bar chart for these columns"
   ]
  },
  {
   "cell_type": "code",
   "execution_count": 13,
   "metadata": {},
   "outputs": [],
   "source": [
    "labels_skills = ['Algorithms',\n",
    "'Experience with the tools used by employer',\n",
    "'Communication',\n",
    "'Contributions to Open Source projects',\n",
    "'Experience with project management tools',\n",
    "'Previous companies worked at',\n",
    "'Previous job titles held',\n",
    "'Educational credentials',\n",
    "'Stackoverflow reputation',\n",
    "'Track record of Getting Things Done']"
   ]
  },
  {
   "cell_type": "code",
   "execution_count": 14,
   "metadata": {},
   "outputs": [
    {
     "data": {
      "image/png": "[encoded data removed]",
      "text/plain": [
       "<Figure size 648x576 with 1 Axes>"
      ]
     },
     "metadata": {
      "needs_background": "light"
     },
     "output_type": "display_data"
    }
   ],
   "source": [
    "plot_multiple_cols_bar(list(sort_cols(Important_skill_cols,'Very important')), 'Very important',\n",
    "                       \"Track record of getting things done is the most important skill that recruiters are looking for.\",\n",
    "                       labels_skills,'tab:brown') #default color is blue"
   ]
  },
  {
   "cell_type": "markdown",
   "metadata": {},
   "source": [
    "Here, we can notice the clusters in ordering.    \n",
    "1. Accomplishments - Track record of getting things done, stackoverflow reputation, Educational credentials.\n",
    "2. Previous work experience - Previous job titles held, previous companies worked at.\n",
    "3. Management - Experience with project management tools, open source projects(which most people uses it to learn about the candiadate collobration skills), communication.\n",
    "4. Technical skills - Experience with the tools used by employer, Algorithms."
   ]
  },
  {
   "cell_type": "code",
   "execution_count": null,
   "metadata": {},
   "outputs": [],
   "source": []
  },
  {
   "cell_type": "markdown",
   "metadata": {},
   "source": [
    "### Tabs or spaces?"
   ]
  },
  {
   "cell_type": "code",
   "execution_count": 18,
   "metadata": {},
   "outputs": [
    {
     "data": {
      "text/html": [
       "<div>\n",
       "<style scoped>\n",
       "    .dataframe tbody tr th:only-of-type {\n",
       "        vertical-align: middle;\n",
       "    }\n",
       "\n",
       "    .dataframe tbody tr th {\n",
       "        vertical-align: top;\n",
       "    }\n",
       "\n",
       "    .dataframe thead th {\n",
       "        text-align: right;\n",
       "    }\n",
       "</style>\n",
       "<table border=\"1\" class=\"dataframe\">\n",
       "  <thead>\n",
       "    <tr style=\"text-align: right;\">\n",
       "      <th></th>\n",
       "      <th>WebDeveloperType</th>\n",
       "      <th>MobileDeveloperType</th>\n",
       "      <th>NonDeveloperType</th>\n",
       "    </tr>\n",
       "  </thead>\n",
       "  <tbody>\n",
       "    <tr>\n",
       "      <th>5</th>\n",
       "      <td>NaN</td>\n",
       "      <td>NaN</td>\n",
       "      <td>NaN</td>\n",
       "    </tr>\n",
       "    <tr>\n",
       "      <th>6</th>\n",
       "      <td>NaN</td>\n",
       "      <td>NaN</td>\n",
       "      <td>Data scientist</td>\n",
       "    </tr>\n",
       "    <tr>\n",
       "      <th>7</th>\n",
       "      <td>Full stack Web developer</td>\n",
       "      <td>NaN</td>\n",
       "      <td>NaN</td>\n",
       "    </tr>\n",
       "  </tbody>\n",
       "</table>\n",
       "</div>"
      ],
      "text/plain": [
       "           WebDeveloperType MobileDeveloperType NonDeveloperType\n",
       "5                       NaN                 NaN              NaN\n",
       "6                       NaN                 NaN   Data scientist\n",
       "7  Full stack Web developer                 NaN              NaN"
      ]
     },
     "execution_count": 18,
     "metadata": {},
     "output_type": "execute_result"
    }
   ],
   "source": [
    "df[['WebDeveloperType','MobileDeveloperType','NonDeveloperType']].head(10)[5:8]"
   ]
  },
  {
   "cell_type": "markdown",
   "metadata": {},
   "source": [
    "Group these 3 columns into one column as DeveloperType_grouped to specify whether he is web developer or mobile developer or Non developer."
   ]
  },
  {
   "cell_type": "code",
   "execution_count": 19,
   "metadata": {},
   "outputs": [],
   "source": [
    "def group_developer(row):\n",
    "    '''\n",
    "    Combines 3 columns('WebDeveloperType','MobileDeveloperType','NonDeveloperType') to 1 column as DevoloperType_grouped\n",
    "    \n",
    "    Arguments: each row from the 3 columns.\n",
    "    \n",
    "    returns: returns a string of developer type.\n",
    "    '''\n",
    "    \n",
    "    if type(row[0]) == str:\n",
    "        return 'Web Developer'\n",
    "    elif type(row[1]) == str:\n",
    "        return 'Mobile Developer'\n",
    "    elif type(row[2]) == str:\n",
    "        return 'Non Developer'\n",
    "    else:\n",
    "        return 'NaN'\n",
    "    \n",
    "df['DeveloperType_grouped'] = df[['WebDeveloperType','MobileDeveloperType','NonDeveloperType']].apply(group_developer, axis = 1)\n",
    "#learn these type of apply .. role of axis = 1"
   ]
  },
  {
   "cell_type": "code",
   "execution_count": 20,
   "metadata": {},
   "outputs": [
    {
     "data": {
      "image/png": "[encoded data removed]",
      "text/plain": [
       "<Figure size 648x432 with 1 Axes>"
      ]
     },
     "metadata": {
      "needs_background": "light"
     },
     "output_type": "display_data"
    }
   ],
   "source": [
    "#for custom text\n",
    "text = ['Spaces'] * 3 + ['Tabs'] * 3 + ['Both'] * 3\n",
    "\n",
    "plt.figure(figsize = (9,6))\n",
    "ax = sb.countplot(data = df[df['DeveloperType_grouped'] != 'NaN'], x = 'DeveloperType_grouped',\n",
    "             hue = 'TabsSpaces',palette=\"GnBu_d\")\n",
    "\n",
    "#for placing the custom text\n",
    "for t,p in zip(text,ax.patches): \n",
    "    x=p.get_bbox().get_points()[:,0]\n",
    "    y=p.get_bbox().get_points()[1,1]\n",
    "    ax.annotate(t, (x.mean(), y), \n",
    "            ha='center', va='bottom') # set the alignment of the text\n",
    "\n",
    "ax.get_legend().remove() # to remove legend\n",
    "plt.xlabel('Developer Type', fontsize = 16)\n",
    "plt.ylabel('Count', fontsize = 16)\n",
    "plt.title('Tabs Vs Spaces',fontsize = 16);"
   ]
  },
  {
   "cell_type": "markdown",
   "metadata": {},
   "source": [
    "In web developers, the proportion of people who prefer space and tab is almost the same, but with a slight difference, Spaces wins. In mobile developers and non-developers, Tabs wins."
   ]
  },
  {
   "cell_type": "code",
   "execution_count": null,
   "metadata": {},
   "outputs": [],
   "source": []
  },
  {
   "cell_type": "markdown",
   "metadata": {},
   "source": [
    "### Other Education Types\n",
    "    Survey Question - Outside of your formal schooling and education, which of the following have you done?\n",
    "     \n",
    "     'Bootcamp',\n",
    "     'Coding competition',\n",
    "     'Hackathon',\n",
    "     'Industry certification',\n",
    "     'On-the-job training',\n",
    "     'Online course',\n",
    "     'Open source contributions',\n",
    "     'Part-time/evening course',\n",
    "     'Self-taught'\n",
    "     \n",
    "     Outside of formal education, What other education types gave an edge to developers?"
   ]
  },
  {
   "cell_type": "markdown",
   "metadata": {},
   "source": [
    "### Data preparation for Linear regression model"
   ]
  },
  {
   "cell_type": "code",
   "execution_count": 37,
   "metadata": {},
   "outputs": [
    {
     "data": {
      "text/plain": [
       "(8874, 155)"
      ]
     },
     "execution_count": 37,
     "metadata": {},
     "output_type": "execute_result"
    }
   ],
   "source": [
    "#dropping the rows with nulls in these particular columns because we include these in our linear regression model.\n",
    "df_EducationTypes = df.dropna(subset = ['EducationTypes','Salary','DeveloperType']).copy()\n",
    "df_EducationTypes.shape"
   ]
  },
  {
   "cell_type": "code",
   "execution_count": 38,
   "metadata": {},
   "outputs": [
    {
     "data": {
      "text/plain": [
       "2     Self-taught; Coding competition; Hackathon; Op...\n",
       "17    On-the-job training; Self-taught; Coding compe...\n",
       "18                               Self-taught; Hackathon\n",
       "22                                          Self-taught\n",
       "34    Part-time/evening course; Self-taught; Coding ...\n",
       "Name: EducationTypes, dtype: object"
      ]
     },
     "execution_count": 38,
     "metadata": {},
     "output_type": "execute_result"
    }
   ],
   "source": [
    "df_EducationTypes.EducationTypes.head()"
   ]
  },
  {
   "cell_type": "markdown",
   "metadata": {},
   "source": [
    "get all unique education types and covert each type as binary columns to include in our model"
   ]
  },
  {
   "cell_type": "code",
   "execution_count": 39,
   "metadata": {},
   "outputs": [],
   "source": [
    "#to get unique EducationTtypes\n",
    "def get_unique_types(column):\n",
    "    '''\n",
    "    gets unique items from the column specified\n",
    "    \n",
    "    arguments: \n",
    "    column name\n",
    "    \n",
    "    returns:\n",
    "    set of unique types in that column\n",
    "    '''\n",
    "    List = []\n",
    "    df_EducationTypes[column].apply(lambda x : x.split(';')).apply(lambda x : List.extend(x))\n",
    "    return set([e.strip() for e in List]) #to remove the front spaces"
   ]
  },
  {
   "cell_type": "code",
   "execution_count": 40,
   "metadata": {},
   "outputs": [
    {
     "data": {
      "text/plain": [
       "{'Bootcamp',\n",
       " 'Coding competition',\n",
       " 'Hackathon',\n",
       " 'Industry certification',\n",
       " 'On-the-job training',\n",
       " 'Online course',\n",
       " 'Open source contributions',\n",
       " 'Part-time/evening course',\n",
       " 'Self-taught'}"
      ]
     },
     "execution_count": 40,
     "metadata": {},
     "output_type": "execute_result"
    }
   ],
   "source": [
    "#to get unique EducationTtypes\n",
    "unique_EducationTypesList = get_unique_types('EducationTypes')\n",
    "unique_EducationTypesList"
   ]
  },
  {
   "cell_type": "code",
   "execution_count": 41,
   "metadata": {},
   "outputs": [
    {
     "data": {
      "text/plain": [
       "2                                                 Other\n",
       "17    Web developer; Embedded applications/devices d...\n",
       "18                                        Web developer\n",
       "22                                                Other\n",
       "34              Embedded applications/devices developer\n",
       "Name: DeveloperType, dtype: object"
      ]
     },
     "execution_count": 41,
     "metadata": {},
     "output_type": "execute_result"
    }
   ],
   "source": [
    "df_EducationTypes.DeveloperType.head()"
   ]
  },
  {
   "cell_type": "markdown",
   "metadata": {},
   "source": [
    "get all unique developer types and covert each type as binary columns to include in our model"
   ]
  },
  {
   "cell_type": "code",
   "execution_count": 42,
   "metadata": {},
   "outputs": [
    {
     "data": {
      "text/plain": [
       "{'Data scientist',\n",
       " 'Database administrator',\n",
       " 'Desktop applications developer',\n",
       " 'DevOps specialist',\n",
       " 'Developer with a statistics or mathematics background',\n",
       " 'Embedded applications/devices developer',\n",
       " 'Graphic designer',\n",
       " 'Graphics programming',\n",
       " 'Machine learning specialist',\n",
       " 'Mobile developer',\n",
       " 'Other',\n",
       " 'Quality assurance engineer',\n",
       " 'Systems administrator',\n",
       " 'Web developer'}"
      ]
     },
     "execution_count": 42,
     "metadata": {},
     "output_type": "execute_result"
    }
   ],
   "source": [
    "#to get unique DeveloperTypes\n",
    "unique_DeveloperTypesList = get_unique_types('DeveloperType')\n",
    "unique_DeveloperTypesList"
   ]
  },
  {
   "cell_type": "code",
   "execution_count": 43,
   "metadata": {
    "scrolled": false
   },
   "outputs": [
    {
     "data": {
      "text/plain": [
       "(8874, 178)"
      ]
     },
     "execution_count": 43,
     "metadata": {},
     "output_type": "execute_result"
    }
   ],
   "source": [
    "#creates binary columns for each unique category in the column\n",
    "def create_cols(col_names,column):\n",
    "    '''\n",
    "    create binary columns for each unique items in that column\n",
    "    \n",
    "    Arguments:\n",
    "    list of binary column names to be created, categorical column name \n",
    "    \n",
    "    returns:\n",
    "    None. creates columns in our existing data frame(df_EducationTypes)\n",
    "    '''\n",
    "    for col in col_names:\n",
    "        df_EducationTypes[col] = df_EducationTypes[column].apply(lambda x : 1 if col in x else 0)\n",
    "\n",
    "#create columns for unique Education types\n",
    "create_cols(unique_EducationTypesList,'EducationTypes')\n",
    "\n",
    "#create columns for unique Education types\n",
    "create_cols(unique_DeveloperTypesList,'DeveloperType')\n",
    "df_EducationTypes.shape"
   ]
  },
  {
   "cell_type": "code",
   "execution_count": 48,
   "metadata": {},
   "outputs": [
    {
     "data": {
      "text/html": [
       "<div>\n",
       "<style scoped>\n",
       "    .dataframe tbody tr th:only-of-type {\n",
       "        vertical-align: middle;\n",
       "    }\n",
       "\n",
       "    .dataframe tbody tr th {\n",
       "        vertical-align: top;\n",
       "    }\n",
       "\n",
       "    .dataframe thead th {\n",
       "        text-align: right;\n",
       "    }\n",
       "</style>\n",
       "<table border=\"1\" class=\"dataframe\">\n",
       "  <thead>\n",
       "    <tr style=\"text-align: right;\">\n",
       "      <th></th>\n",
       "      <th>Online course</th>\n",
       "      <th>Bootcamp</th>\n",
       "      <th>On-the-job training</th>\n",
       "      <th>Coding competition</th>\n",
       "      <th>Open source contributions</th>\n",
       "      <th>Hackathon</th>\n",
       "      <th>Part-time/evening course</th>\n",
       "      <th>Self-taught</th>\n",
       "      <th>Industry certification</th>\n",
       "    </tr>\n",
       "  </thead>\n",
       "  <tbody>\n",
       "    <tr>\n",
       "      <th>2</th>\n",
       "      <td>0</td>\n",
       "      <td>0</td>\n",
       "      <td>0</td>\n",
       "      <td>1</td>\n",
       "      <td>1</td>\n",
       "      <td>1</td>\n",
       "      <td>0</td>\n",
       "      <td>1</td>\n",
       "      <td>0</td>\n",
       "    </tr>\n",
       "    <tr>\n",
       "      <th>17</th>\n",
       "      <td>0</td>\n",
       "      <td>0</td>\n",
       "      <td>1</td>\n",
       "      <td>1</td>\n",
       "      <td>1</td>\n",
       "      <td>0</td>\n",
       "      <td>0</td>\n",
       "      <td>1</td>\n",
       "      <td>0</td>\n",
       "    </tr>\n",
       "    <tr>\n",
       "      <th>18</th>\n",
       "      <td>0</td>\n",
       "      <td>0</td>\n",
       "      <td>0</td>\n",
       "      <td>0</td>\n",
       "      <td>0</td>\n",
       "      <td>1</td>\n",
       "      <td>0</td>\n",
       "      <td>1</td>\n",
       "      <td>0</td>\n",
       "    </tr>\n",
       "    <tr>\n",
       "      <th>22</th>\n",
       "      <td>0</td>\n",
       "      <td>0</td>\n",
       "      <td>0</td>\n",
       "      <td>0</td>\n",
       "      <td>0</td>\n",
       "      <td>0</td>\n",
       "      <td>0</td>\n",
       "      <td>1</td>\n",
       "      <td>0</td>\n",
       "    </tr>\n",
       "    <tr>\n",
       "      <th>34</th>\n",
       "      <td>0</td>\n",
       "      <td>0</td>\n",
       "      <td>0</td>\n",
       "      <td>1</td>\n",
       "      <td>0</td>\n",
       "      <td>0</td>\n",
       "      <td>1</td>\n",
       "      <td>1</td>\n",
       "      <td>0</td>\n",
       "    </tr>\n",
       "  </tbody>\n",
       "</table>\n",
       "</div>"
      ],
      "text/plain": [
       "    Online course  Bootcamp  On-the-job training  Coding competition  \\\n",
       "2               0         0                    0                   1   \n",
       "17              0         0                    1                   1   \n",
       "18              0         0                    0                   0   \n",
       "22              0         0                    0                   0   \n",
       "34              0         0                    0                   1   \n",
       "\n",
       "    Open source contributions  Hackathon  Part-time/evening course  \\\n",
       "2                           1          1                         0   \n",
       "17                          1          0                         0   \n",
       "18                          0          1                         0   \n",
       "22                          0          0                         0   \n",
       "34                          0          0                         1   \n",
       "\n",
       "    Self-taught  Industry certification  \n",
       "2             1                       0  \n",
       "17            1                       0  \n",
       "18            1                       0  \n",
       "22            1                       0  \n",
       "34            1                       0  "
      ]
     },
     "execution_count": 48,
     "metadata": {},
     "output_type": "execute_result"
    }
   ],
   "source": [
    "df_EducationTypes[list(unique_EducationTypesList)].head()"
   ]
  },
  {
   "cell_type": "code",
   "execution_count": 44,
   "metadata": {},
   "outputs": [],
   "source": [
    "#create a numerical column for YearsCodedJob\n",
    "df_EducationTypes['YearsCodedJob_num'] = df_EducationTypes.YearsCodedJob.fillna('Less than a year').apply(lambda x : float(x[:2].rstrip()) if x != 'Less than a year' else 0)"
   ]
  },
  {
   "cell_type": "code",
   "execution_count": 45,
   "metadata": {},
   "outputs": [],
   "source": [
    "def linear_model(data,columns,formal_educ = None):\n",
    "    '''\n",
    "    filters the data based on formal education and runs linear regression on that data to fit the salary(y)\n",
    "    \n",
    "    Arguments:\n",
    "    data, columns to regress in data, formal_education to filter the education level\n",
    "    \n",
    "    Returns:\n",
    "    coefficients of each column\n",
    "    '''\n",
    "    \n",
    "    if formal_educ:\n",
    "        data = data[data.FormalEducation == formal_educ] #filters data based on formal education selected\n",
    "    X = data[columns].values\n",
    "\n",
    "    Y = data['Salary'].values.reshape(-1,1)\n",
    "\n",
    "    scaler = StandardScaler()\n",
    "    X_transformed = scaler.fit_transform(X)\n",
    "    Y_transformed = scaler.fit_transform(Y)\n",
    "\n",
    "    # linear model\n",
    "    X2 = sm.add_constant(X_transformed)\n",
    "    lm_model = sm.OLS(Y_transformed, X2)\n",
    "    res = lm_model.fit()\n",
    "    print(res.summary(xname = ['const'] + columns)) #to print the column names in summary output\n",
    "    \n",
    "    params = res.params[1:len(unique_EducationTypesList) + 1] #returns without constant coefficient\n",
    "    \n",
    "    return params"
   ]
  },
  {
   "cell_type": "code",
   "execution_count": 46,
   "metadata": {},
   "outputs": [
    {
     "name": "stdout",
     "output_type": "stream",
     "text": [
      "                            OLS Regression Results                            \n",
      "==============================================================================\n",
      "Dep. Variable:                      y   R-squared:                       0.283\n",
      "Model:                            OLS   Adj. R-squared:                  0.279\n",
      "Method:                 Least Squares   F-statistic:                     72.63\n",
      "Date:                Fri, 03 Apr 2020   Prob (F-statistic):          1.25e-296\n",
      "Time:                        17:20:18   Log-Likelihood:                -5568.3\n",
      "No. Observations:                4445   AIC:                         1.119e+04\n",
      "Df Residuals:                    4420   BIC:                         1.135e+04\n",
      "Df Model:                          24                                         \n",
      "Covariance Type:            nonrobust                                         \n",
      "=========================================================================================================================\n",
      "                                                            coef    std err          t      P>|t|      [0.025      0.975]\n",
      "-------------------------------------------------------------------------------------------------------------------------\n",
      "const                                                  7.165e-17      0.013   5.62e-15      1.000      -0.025       0.025\n",
      "Online course                                            -0.0192      0.013     -1.473      0.141      -0.045       0.006\n",
      "Bootcamp                                                  0.0380      0.013      2.932      0.003       0.013       0.063\n",
      "On-the-job training                                       0.0831      0.013      6.399      0.000       0.058       0.109\n",
      "Coding competition                                       -0.0049      0.013     -0.366      0.714      -0.031       0.021\n",
      "Open source contributions                                 0.1060      0.014      7.828      0.000       0.079       0.132\n",
      "Hackathon                                                 0.1177      0.013      8.771      0.000       0.091       0.144\n",
      "Part-time/evening course                                 -0.1013      0.013     -7.778      0.000      -0.127      -0.076\n",
      "Self-taught                                               0.0716      0.013      5.500      0.000       0.046       0.097\n",
      "Industry certification                                   -0.0261      0.013     -1.989      0.047      -0.052      -0.000\n",
      "DevOps specialist                                         0.0401      0.014      2.938      0.003       0.013       0.067\n",
      "Quality assurance engineer                                0.0006      0.013      0.047      0.962      -0.025       0.026\n",
      "Developer with a statistics or mathematics background    -0.0060      0.013     -0.449      0.654      -0.032       0.020\n",
      "Database administrator                                   -0.0166      0.014     -1.150      0.250      -0.045       0.012\n",
      "Mobile developer                                         -0.0541      0.013     -4.129      0.000      -0.080      -0.028\n",
      "Graphics programming                                     -0.0282      0.013     -2.089      0.037      -0.055      -0.002\n",
      "Graphic designer                                         -0.0272      0.013     -2.035      0.042      -0.053      -0.001\n",
      "Other                                                     0.0409      0.013      3.036      0.002       0.014       0.067\n",
      "Web developer                                            -0.0529      0.014     -3.781      0.000      -0.080      -0.025\n",
      "Systems administrator                                    -0.0342      0.015     -2.335      0.020      -0.063      -0.005\n",
      "Embedded applications/devices developer                   0.0028      0.013      0.215      0.830      -0.023       0.029\n",
      "Desktop applications developer                           -0.0237      0.013     -1.772      0.077      -0.050       0.003\n",
      "Machine learning specialist                               0.0196      0.014      1.428      0.153      -0.007       0.046\n",
      "Data scientist                                            0.0036      0.014      0.258      0.796      -0.024       0.031\n",
      "YearsCodedJob_num                                         0.4356      0.014     32.046      0.000       0.409       0.462\n",
      "==============================================================================\n",
      "Omnibus:                       96.129   Durbin-Watson:                   1.787\n",
      "Prob(Omnibus):                  0.000   Jarque-Bera (JB):              102.073\n",
      "Skew:                           0.370   Prob(JB):                     6.84e-23\n",
      "Kurtosis:                       2.934   Cond. No.                         1.96\n",
      "==============================================================================\n",
      "\n",
      "Warnings:\n",
      "[1] Standard Errors assume that the covariance matrix of the errors is correctly specified.\n"
     ]
    }
   ],
   "source": [
    "weights_bachelors_degree = linear_model(df_EducationTypes,list(unique_EducationTypesList) + list(unique_DeveloperTypesList) + ['YearsCodedJob_num'],\n",
    "             \"Bachelor's degree\")"
   ]
  },
  {
   "cell_type": "code",
   "execution_count": 33,
   "metadata": {},
   "outputs": [
    {
     "name": "stdout",
     "output_type": "stream",
     "text": [
      "                            OLS Regression Results                            \n",
      "==============================================================================\n",
      "Dep. Variable:                      y   R-squared:                       0.240\n",
      "Model:                            OLS   Adj. R-squared:                  0.231\n",
      "Method:                 Least Squares   F-statistic:                     27.29\n",
      "Date:                Fri, 03 Apr 2020   Prob (F-statistic):          1.63e-105\n",
      "Time:                        17:05:18   Log-Likelihood:                -2686.1\n",
      "No. Observations:                2096   AIC:                             5422.\n",
      "Df Residuals:                    2071   BIC:                             5563.\n",
      "Df Model:                          24                                         \n",
      "Covariance Type:            nonrobust                                         \n",
      "=========================================================================================================================\n",
      "                                                            coef    std err          t      P>|t|      [0.025      0.975]\n",
      "-------------------------------------------------------------------------------------------------------------------------\n",
      "const                                                  1.475e-17      0.019    7.7e-16      1.000      -0.038       0.038\n",
      "Online course                                             0.0070      0.020      0.354      0.723      -0.032       0.046\n",
      "Bootcamp                                                 -0.0046      0.020     -0.235      0.815      -0.043       0.034\n",
      "On-the-job training                                       0.0512      0.020      2.589      0.010       0.012       0.090\n",
      "Coding competition                                       -0.0029      0.020     -0.145      0.885      -0.042       0.036\n",
      "Open source contributions                                 0.0698      0.020      3.434      0.001       0.030       0.110\n",
      "Hackathon                                                 0.1298      0.020      6.422      0.000       0.090       0.169\n",
      "Part-time/evening course                                 -0.0390      0.020     -1.982      0.048      -0.078      -0.000\n",
      "Self-taught                                               0.0557      0.019      2.867      0.004       0.018       0.094\n",
      "Industry certification                                   -0.0071      0.020     -0.353      0.724      -0.046       0.032\n",
      "DevOps specialist                                         0.0408      0.021      1.984      0.047       0.000       0.081\n",
      "Quality assurance engineer                               -0.0190      0.020     -0.963      0.336      -0.058       0.020\n",
      "Developer with a statistics or mathematics background     0.0314      0.020      1.569      0.117      -0.008       0.071\n",
      "Database administrator                                   -0.0108      0.022     -0.502      0.616      -0.053       0.031\n",
      "Mobile developer                                         -0.0289      0.020     -1.454      0.146      -0.068       0.010\n",
      "Graphics programming                                     -0.0225      0.020     -1.131      0.258      -0.062       0.017\n",
      "Graphic designer                                         -0.0081      0.020     -0.412      0.680      -0.046       0.030\n",
      "Other                                                     0.0332      0.021      1.612      0.107      -0.007       0.073\n",
      "Web developer                                            -0.0377      0.022     -1.749      0.080      -0.080       0.005\n",
      "Systems administrator                                    -0.0076      0.022     -0.347      0.729      -0.051       0.035\n",
      "Embedded applications/devices developer                  -0.0317      0.020     -1.583      0.114      -0.071       0.008\n",
      "Desktop applications developer                           -0.0436      0.020     -2.149      0.032      -0.083      -0.004\n",
      "Machine learning specialist                               0.0018      0.021      0.085      0.932      -0.040       0.043\n",
      "Data scientist                                            0.0236      0.022      1.095      0.274      -0.019       0.066\n",
      "YearsCodedJob_num                                         0.4278      0.021     20.781      0.000       0.387       0.468\n",
      "==============================================================================\n",
      "Omnibus:                      157.472   Durbin-Watson:                   1.808\n",
      "Prob(Omnibus):                  0.000   Jarque-Bera (JB):              198.300\n",
      "Skew:                           0.680   Prob(JB):                     8.70e-44\n",
      "Kurtosis:                       3.650   Cond. No.                         1.98\n",
      "==============================================================================\n",
      "\n",
      "Warnings:\n",
      "[1] Standard Errors assume that the covariance matrix of the errors is correctly specified.\n"
     ]
    }
   ],
   "source": [
    "weights_masters_degree = linear_model(df_EducationTypes,list(unique_EducationTypesList) + list(unique_DeveloperTypesList) + ['YearsCodedJob_num'],\n",
    "             \"Master's degree\")"
   ]
  },
  {
   "cell_type": "code",
   "execution_count": 34,
   "metadata": {},
   "outputs": [
    {
     "name": "stdout",
     "output_type": "stream",
     "text": [
      "                            OLS Regression Results                            \n",
      "==============================================================================\n",
      "Dep. Variable:                      y   R-squared:                       0.317\n",
      "Model:                            OLS   Adj. R-squared:                  0.305\n",
      "Method:                 Least Squares   F-statistic:                     26.28\n",
      "Date:                Fri, 03 Apr 2020   Prob (F-statistic):           4.05e-95\n",
      "Time:                        17:05:19   Log-Likelihood:                -1700.0\n",
      "No. Observations:                1384   AIC:                             3450.\n",
      "Df Residuals:                    1359   BIC:                             3581.\n",
      "Df Model:                          24                                         \n",
      "Covariance Type:            nonrobust                                         \n",
      "=========================================================================================================================\n",
      "                                                            coef    std err          t      P>|t|      [0.025      0.975]\n",
      "-------------------------------------------------------------------------------------------------------------------------\n",
      "const                                                  1.223e-16      0.022   5.46e-15      1.000      -0.044       0.044\n",
      "Online course                                            -0.0303      0.024     -1.288      0.198      -0.077       0.016\n",
      "Bootcamp                                                  0.0243      0.023      1.036      0.301      -0.022       0.070\n",
      "On-the-job training                                       0.0380      0.023      1.636      0.102      -0.008       0.084\n",
      "Coding competition                                        0.0249      0.024      1.056      0.291      -0.021       0.071\n",
      "Open source contributions                                 0.1221      0.024      5.118      0.000       0.075       0.169\n",
      "Hackathon                                                 0.0916      0.024      3.815      0.000       0.045       0.139\n",
      "Part-time/evening course                                 -0.0745      0.023     -3.186      0.001      -0.120      -0.029\n",
      "Self-taught                                               0.0385      0.023      1.692      0.091      -0.006       0.083\n",
      "Industry certification                                    0.0255      0.024      1.082      0.280      -0.021       0.072\n",
      "DevOps specialist                                         0.0684      0.024      2.817      0.005       0.021       0.116\n",
      "Quality assurance engineer                               -0.0312      0.023     -1.366      0.172      -0.076       0.014\n",
      "Developer with a statistics or mathematics background    -0.0350      0.024     -1.463      0.144      -0.082       0.012\n",
      "Database administrator                                   -0.0258      0.026     -0.983      0.326      -0.077       0.026\n",
      "Mobile developer                                         -0.0431      0.024     -1.831      0.067      -0.089       0.003\n",
      "Graphics programming                                      0.0356      0.024      1.508      0.132      -0.011       0.082\n",
      "Graphic designer                                          0.0252      0.023      1.075      0.283      -0.021       0.071\n",
      "Other                                                     0.0397      0.024      1.671      0.095      -0.007       0.086\n",
      "Web developer                                            -0.0222      0.025     -0.905      0.366      -0.070       0.026\n",
      "Systems administrator                                    -0.0301      0.027     -1.134      0.257      -0.082       0.022\n",
      "Embedded applications/devices developer                  -0.0265      0.024     -1.127      0.260      -0.073       0.020\n",
      "Desktop applications developer                           -0.0613      0.025     -2.479      0.013      -0.110      -0.013\n",
      "Machine learning specialist                               0.0516      0.024      2.140      0.033       0.004       0.099\n",
      "Data scientist                                           -0.0154      0.024     -0.635      0.526      -0.063       0.032\n",
      "YearsCodedJob_num                                         0.4847      0.024     19.962      0.000       0.437       0.532\n",
      "==============================================================================\n",
      "Omnibus:                       78.889   Durbin-Watson:                   1.840\n",
      "Prob(Omnibus):                  0.000   Jarque-Bera (JB):               92.453\n",
      "Skew:                           0.587   Prob(JB):                     8.39e-21\n",
      "Kurtosis:                       3.473   Cond. No.                         2.12\n",
      "==============================================================================\n",
      "\n",
      "Warnings:\n",
      "[1] Standard Errors assume that the covariance matrix of the errors is correctly specified.\n"
     ]
    }
   ],
   "source": [
    "weights_not_earned = linear_model(df_EducationTypes,list(unique_EducationTypesList) + list(unique_DeveloperTypesList) + ['YearsCodedJob_num'],\n",
    "             \"Some college/university study without earning a bachelor's degree\")"
   ]
  },
  {
   "cell_type": "markdown",
   "metadata": {},
   "source": [
    "#### Create a dataframe with x variables and their weights of our models to visualise the importance of each variable in the respective formal eduactions"
   ]
  },
  {
   "cell_type": "code",
   "execution_count": 35,
   "metadata": {},
   "outputs": [],
   "source": [
    "#for plotting a bar plot create a df\n",
    "def create_df_for_weights(Educ_types,weights,degree):\n",
    "    '''\n",
    "    creates a dataframe for the model variables and coefficients\n",
    "    \n",
    "    Arguments:\n",
    "    list of model variables, weights array, degree name(FormalEducation)\n",
    "    \n",
    "    returns:\n",
    "    dataframe with model variables , coefficients and degree level\n",
    "    '''\n",
    "    d = {'EducationTypes' : Educ_types,'Importance' : weights,'Degree' : [degree] * len(Educ_types)}\n",
    "    return pd.DataFrame(data = d)\n",
    "\n",
    "\n",
    "#combine all dataframes\n",
    "df_weights = pd.concat([create_df_for_weights(list(unique_EducationTypesList),weights_bachelors_degree,\"Bachelor's Degree\"),\n",
    "           create_df_for_weights(list(unique_EducationTypesList),weights_masters_degree,\"Masterr's Degree\"),\n",
    "           create_df_for_weights(list(unique_EducationTypesList),weights_not_earned,\"Degree not earned\")])\n",
    "\n",
    "#Modified importance - set negative coefficients to 0\n",
    "df_weights['ModifiedImportance'] = df_weights['Importance'].apply(lambda x : 0 if x < 0 else x)"
   ]
  },
  {
   "cell_type": "code",
   "execution_count": 50,
   "metadata": {},
   "outputs": [
    {
     "data": {
      "image/png": "[encoded data removed]",
      "text/plain": [
       "<Figure size 1080x360 with 3 Axes>"
      ]
     },
     "metadata": {
      "needs_background": "light"
     },
     "output_type": "display_data"
    }
   ],
   "source": [
    "#custom palette\n",
    "clrs = ['grey'] * 4 + ['green'] * 2 + ['grey'] * 3\n",
    "\n",
    "g = sb.catplot(y = \"EducationTypes\", x = 'ModifiedImportance', col=\"Degree\", col_wrap=3,\n",
    "                data=df_weights,\n",
    "                kind=\"bar\", palette = clrs)\n",
    "\n",
    "plt.subplots_adjust(top=0.85)\n",
    "g.fig.suptitle('Outside of formal education, developers with these education types are outperforming others in terms of salary.',\n",
    "         fontsize = 16)\n",
    "\n",
    "# # Iterate thorugh each axis\n",
    "# for ax in g.axes.flat:\n",
    "#     ax.set_title(ax.get_title(), fontsize='xx-large')\n",
    "#     # This only works for the left ylabels\n",
    "#     ax.set_ylabel(ax.get_ylabel(), fontsize='xx-large')\n",
    "g.set_xlabels('Importance',fontsize = 16)\n",
    "g.set_ylabels('Education types',fontsize = 16);"
   ]
  },
  {
   "cell_type": "markdown",
   "metadata": {},
   "source": [
    "Here, the x-axis scale is coefficients of linear regression, and education types with zero importance are negative coefficient values. Since my emphasis is on which has the most impact on developer salary.\n",
    "\n",
    "\n",
    "### Hackathon and Open source contributions\n",
    "The most important education types for all kinds of formal education (bachelor's, master's, degree not earned). These are may not be the direct causation to the developer salary. But, these education types showcases' getting things done' skill which recruiters are looking for, more than any other education type.\n",
    "\n",
    "### Industry certification and coding competetion\n",
    "does not add more value to bachelor's and master's degree. But, for developers who have not earned degree has a possitive impact on their salaries\n",
    "\n",
    "### Bootcamps\n",
    "For developers with no degree and bachelor's degree bootcamps have possitive impact. But, for developers with master's degree does not add that much value."
   ]
  },
  {
   "cell_type": "code",
   "execution_count": null,
   "metadata": {},
   "outputs": [],
   "source": []
  },
  {
   "cell_type": "markdown",
   "metadata": {},
   "source": [
    "### Random Analysis"
   ]
  },
  {
   "cell_type": "code",
   "execution_count": 598,
   "metadata": {},
   "outputs": [],
   "source": [
    "#create a column for open source and hackathon\n",
    "df_EducationTypes['openSource_Hackathon'] = df_EducationTypes[['Open source contributions','Hackathon']].apply(\n",
    "    lambda x : 1 if (x[0] == 1 or x[1] == 1) else 0,axis = 1)"
   ]
  },
  {
   "cell_type": "code",
   "execution_count": 647,
   "metadata": {},
   "outputs": [
    {
     "name": "stdout",
     "output_type": "stream",
     "text": [
      "                            OLS Regression Results                            \n",
      "==============================================================================\n",
      "Dep. Variable:                      y   R-squared:                       0.283\n",
      "Model:                            OLS   Adj. R-squared:                  0.279\n",
      "Method:                 Least Squares   F-statistic:                     72.63\n",
      "Date:                Sun, 29 Mar 2020   Prob (F-statistic):          1.25e-296\n",
      "Time:                        19:49:59   Log-Likelihood:                -5568.3\n",
      "No. Observations:                4445   AIC:                         1.119e+04\n",
      "Df Residuals:                    4420   BIC:                         1.135e+04\n",
      "Df Model:                          24                                         \n",
      "Covariance Type:            nonrobust                                         \n",
      "=========================================================================================================================\n",
      "                                                            coef    std err          t      P>|t|      [0.025      0.975]\n",
      "-------------------------------------------------------------------------------------------------------------------------\n",
      "const                                                  7.165e-17      0.013   5.62e-15      1.000      -0.025       0.025\n",
      "Part-time/evening course                                 -0.1013      0.013     -7.778      0.000      -0.127      -0.076\n",
      "On-the-job training                                       0.0831      0.013      6.399      0.000       0.058       0.109\n",
      "Hackathon                                                 0.1177      0.013      8.771      0.000       0.091       0.144\n",
      "Online course                                            -0.0192      0.013     -1.473      0.141      -0.045       0.006\n",
      "Industry certification                                   -0.0261      0.013     -1.989      0.047      -0.052      -0.000\n",
      "Self-taught                                               0.0716      0.013      5.500      0.000       0.046       0.097\n",
      "Open source contributions                                 0.1060      0.014      7.828      0.000       0.079       0.132\n",
      "Bootcamp                                                  0.0380      0.013      2.932      0.003       0.013       0.063\n",
      "Coding competition                                       -0.0049      0.013     -0.366      0.714      -0.031       0.021\n",
      "Data scientist                                            0.0036      0.014      0.258      0.796      -0.024       0.031\n",
      "Graphic designer                                         -0.0272      0.013     -2.035      0.042      -0.053      -0.001\n",
      "Web developer                                            -0.0529      0.014     -3.781      0.000      -0.080      -0.025\n",
      "Graphics programming                                     -0.0282      0.013     -2.089      0.037      -0.055      -0.002\n",
      "Desktop applications developer                           -0.0237      0.013     -1.772      0.077      -0.050       0.003\n",
      "Systems administrator                                    -0.0342      0.015     -2.335      0.020      -0.063      -0.005\n",
      "Mobile developer                                         -0.0541      0.013     -4.129      0.000      -0.080      -0.028\n",
      "Other                                                     0.0409      0.013      3.036      0.002       0.014       0.067\n",
      "Database administrator                                   -0.0166      0.014     -1.150      0.250      -0.045       0.012\n",
      "Machine learning specialist                               0.0196      0.014      1.428      0.153      -0.007       0.046\n",
      "Embedded applications/devices developer                   0.0028      0.013      0.215      0.830      -0.023       0.029\n",
      "Quality assurance engineer                                0.0006      0.013      0.047      0.962      -0.025       0.026\n",
      "Developer with a statistics or mathematics background    -0.0060      0.013     -0.449      0.654      -0.032       0.020\n",
      "DevOps specialist                                         0.0401      0.014      2.938      0.003       0.013       0.067\n",
      "YearsCodedJob_num                                         0.4356      0.014     32.046      0.000       0.409       0.462\n",
      "==============================================================================\n",
      "Omnibus:                       96.129   Durbin-Watson:                   1.787\n",
      "Prob(Omnibus):                  0.000   Jarque-Bera (JB):              102.073\n",
      "Skew:                           0.370   Prob(JB):                     6.84e-23\n",
      "Kurtosis:                       2.934   Cond. No.                         1.96\n",
      "==============================================================================\n",
      "\n",
      "Warnings:\n",
      "[1] Standard Errors assume that the covariance matrix of the errors is correctly specified.\n"
     ]
    },
    {
     "data": {
      "text/plain": [
       "array([-0.10127337,  0.0831382 ,  0.11773546, -0.01923146, -0.02611109,\n",
       "        0.07157448,  0.10595794,  0.03803046, -0.00489613,  0.00361956,\n",
       "       -0.02722996, -0.05293025, -0.02818511, -0.02367977, -0.03424442,\n",
       "       -0.05409185,  0.04089455, -0.01660201,  0.01957911,  0.00283698,\n",
       "        0.00061741, -0.00599751,  0.04010798,  0.43559991])"
      ]
     },
     "execution_count": 647,
     "metadata": {},
     "output_type": "execute_result"
    }
   ],
   "source": [
    "linear_model(df_EducationTypes,list(unique_EducationTypesList) + list(unique_DeveloperTypesList) + ['YearsCodedJob_num'],\n",
    "             \"Bachelor's degree\")"
   ]
  },
  {
   "cell_type": "code",
   "execution_count": 626,
   "metadata": {},
   "outputs": [
    {
     "name": "stdout",
     "output_type": "stream",
     "text": [
      "                            OLS Regression Results                            \n",
      "==============================================================================\n",
      "Dep. Variable:                      y   R-squared:                       0.317\n",
      "Model:                            OLS   Adj. R-squared:                  0.305\n",
      "Method:                 Least Squares   F-statistic:                     26.28\n",
      "Date:                Sun, 29 Mar 2020   Prob (F-statistic):           4.05e-95\n",
      "Time:                        19:43:46   Log-Likelihood:                -1700.0\n",
      "No. Observations:                1384   AIC:                             3450.\n",
      "Df Residuals:                    1359   BIC:                             3581.\n",
      "Df Model:                          24                                         \n",
      "Covariance Type:            nonrobust                                         \n",
      "=========================================================================================================================\n",
      "                                                            coef    std err          t      P>|t|      [0.025      0.975]\n",
      "-------------------------------------------------------------------------------------------------------------------------\n",
      "const                                                  1.223e-16      0.022   5.46e-15      1.000      -0.044       0.044\n",
      "Part-time/evening course                                 -0.0745      0.023     -3.186      0.001      -0.120      -0.029\n",
      "On-the-job training                                       0.0380      0.023      1.636      0.102      -0.008       0.084\n",
      "Hackathon                                                 0.0916      0.024      3.815      0.000       0.045       0.139\n",
      "Online course                                            -0.0303      0.024     -1.288      0.198      -0.077       0.016\n",
      "Industry certification                                    0.0255      0.024      1.082      0.280      -0.021       0.072\n",
      "Self-taught                                               0.0385      0.023      1.692      0.091      -0.006       0.083\n",
      "Open source contributions                                 0.1221      0.024      5.118      0.000       0.075       0.169\n",
      "Bootcamp                                                  0.0243      0.023      1.036      0.301      -0.022       0.070\n",
      "Coding competition                                        0.0249      0.024      1.056      0.291      -0.021       0.071\n",
      "Data scientist                                           -0.0154      0.024     -0.635      0.526      -0.063       0.032\n",
      "Graphic designer                                          0.0252      0.023      1.075      0.283      -0.021       0.071\n",
      "Web developer                                            -0.0222      0.025     -0.905      0.366      -0.070       0.026\n",
      "Graphics programming                                      0.0356      0.024      1.508      0.132      -0.011       0.082\n",
      "Desktop applications developer                           -0.0613      0.025     -2.479      0.013      -0.110      -0.013\n",
      "Systems administrator                                    -0.0301      0.027     -1.134      0.257      -0.082       0.022\n",
      "Mobile developer                                         -0.0431      0.024     -1.831      0.067      -0.089       0.003\n",
      "Other                                                     0.0397      0.024      1.671      0.095      -0.007       0.086\n",
      "Database administrator                                   -0.0258      0.026     -0.983      0.326      -0.077       0.026\n",
      "Machine learning specialist                               0.0516      0.024      2.140      0.033       0.004       0.099\n",
      "Embedded applications/devices developer                  -0.0265      0.024     -1.127      0.260      -0.073       0.020\n",
      "Quality assurance engineer                               -0.0312      0.023     -1.366      0.172      -0.076       0.014\n",
      "Developer with a statistics or mathematics background    -0.0350      0.024     -1.463      0.144      -0.082       0.012\n",
      "DevOps specialist                                         0.0684      0.024      2.817      0.005       0.021       0.116\n",
      "YearsCodedJob_num                                         0.4847      0.024     19.962      0.000       0.437       0.532\n",
      "==============================================================================\n",
      "Omnibus:                       78.889   Durbin-Watson:                   1.840\n",
      "Prob(Omnibus):                  0.000   Jarque-Bera (JB):               92.453\n",
      "Skew:                           0.587   Prob(JB):                     8.39e-21\n",
      "Kurtosis:                       3.473   Cond. No.                         2.12\n",
      "==============================================================================\n",
      "\n",
      "Warnings:\n",
      "[1] Standard Errors assume that the covariance matrix of the errors is correctly specified.\n"
     ]
    },
    {
     "data": {
      "text/plain": [
       "array([-0.07454787,  0.03801787,  0.09163184, -0.03034874,  0.02549183,\n",
       "        0.03853718,  0.12212885,  0.02427747,  0.02485597, -0.01543397,\n",
       "        0.02522471, -0.02218268,  0.03562361, -0.06128077, -0.030095  ,\n",
       "       -0.04312524,  0.03972253, -0.02584623,  0.05159852, -0.02653929,\n",
       "       -0.03117582, -0.03495957,  0.06841663,  0.48465158])"
      ]
     },
     "execution_count": 626,
     "metadata": {},
     "output_type": "execute_result"
    }
   ],
   "source": [
    "linear_model(df_DeveloperTypes,list(unique_EducationTypesList) + list(unique_DeveloperTypesList) + ['YearsCodedJob_num'],\n",
    "             \"Some college/university study without earning a bachelor's degree\")"
   ]
  },
  {
   "cell_type": "code",
   "execution_count": 588,
   "metadata": {
    "scrolled": true
   },
   "outputs": [
    {
     "name": "stdout",
     "output_type": "stream",
     "text": [
      "Part-time/evening course\n",
      "count              879\n",
      "unique              21\n",
      "top       2 to 3 years\n",
      "freq               104\n",
      "Name: YearsCodedJob, dtype: object\n",
      "\n",
      "\n",
      "On-the-job training\n",
      "count             3216\n",
      "unique              21\n",
      "top       2 to 3 years\n",
      "freq               375\n",
      "Name: YearsCodedJob, dtype: object\n",
      "\n",
      "\n",
      "Hackathon\n",
      "count             1856\n",
      "unique              21\n",
      "top       3 to 4 years\n",
      "freq               220\n",
      "Name: YearsCodedJob, dtype: object\n",
      "\n",
      "\n",
      "Online course\n",
      "count             2997\n",
      "unique              21\n",
      "top       2 to 3 years\n",
      "freq               357\n",
      "Name: YearsCodedJob, dtype: object\n",
      "\n",
      "\n",
      "Industry certification\n",
      "count                 1115\n",
      "unique                  21\n",
      "top       20 or more years\n",
      "freq                   113\n",
      "Name: YearsCodedJob, dtype: object\n",
      "\n",
      "\n",
      "Self-taught\n",
      "count             6008\n",
      "unique              21\n",
      "top       2 to 3 years\n",
      "freq               705\n",
      "Name: YearsCodedJob, dtype: object\n",
      "\n",
      "\n",
      "Open source contributions\n",
      "count             2734\n",
      "unique              21\n",
      "top       3 to 4 years\n",
      "freq               273\n",
      "Name: YearsCodedJob, dtype: object\n",
      "\n",
      "\n",
      "Bootcamp\n",
      "count              594\n",
      "unique              21\n",
      "top       1 to 2 years\n",
      "freq                94\n",
      "Name: YearsCodedJob, dtype: object\n",
      "\n",
      "\n",
      "Coding competition\n",
      "count             1459\n",
      "unique              21\n",
      "top       3 to 4 years\n",
      "freq               176\n",
      "Name: YearsCodedJob, dtype: object\n",
      "\n",
      "\n"
     ]
    }
   ],
   "source": [
    "for col in unique_EducationTypesList:\n",
    "    print(col)\n",
    "    print(df_EducationTypes[(df_EducationTypes[col] == 1) & (df_EducationTypes['Web developer'] == 1)]['YearsCodedJob'].describe())\n",
    "    print('\\n')"
   ]
  },
  {
   "cell_type": "code",
   "execution_count": 589,
   "metadata": {
    "scrolled": true
   },
   "outputs": [
    {
     "name": "stdout",
     "output_type": "stream",
     "text": [
      "Part-time/evening course\n",
      "count    883.000000\n",
      "mean       7.420159\n",
      "std        6.225826\n",
      "min        0.000000\n",
      "25%        2.000000\n",
      "50%        5.000000\n",
      "75%       11.000000\n",
      "max       20.000000\n",
      "Name: YearsCodedJob_num, dtype: float64\n",
      "\n",
      "\n",
      "On-the-job training\n",
      "count    3226.000000\n",
      "mean        7.112833\n",
      "std         5.891024\n",
      "min         0.000000\n",
      "25%         2.000000\n",
      "50%         5.000000\n",
      "75%        10.000000\n",
      "max        20.000000\n",
      "Name: YearsCodedJob_num, dtype: float64\n",
      "\n",
      "\n",
      "Hackathon\n",
      "count    1863.000000\n",
      "mean        6.504563\n",
      "std         5.328002\n",
      "min         0.000000\n",
      "25%         2.000000\n",
      "50%         5.000000\n",
      "75%         9.000000\n",
      "max        20.000000\n",
      "Name: YearsCodedJob_num, dtype: float64\n",
      "\n",
      "\n",
      "Online course\n",
      "count    3007.000000\n",
      "mean        6.625208\n",
      "std         5.670675\n",
      "min         0.000000\n",
      "25%         2.000000\n",
      "50%         5.000000\n",
      "75%        10.000000\n",
      "max        20.000000\n",
      "Name: YearsCodedJob_num, dtype: float64\n",
      "\n",
      "\n",
      "Industry certification\n",
      "count    1117.000000\n",
      "mean        9.180842\n",
      "std         5.978866\n",
      "min         0.000000\n",
      "25%         4.000000\n",
      "50%         8.000000\n",
      "75%        14.000000\n",
      "max        20.000000\n",
      "Name: YearsCodedJob_num, dtype: float64\n",
      "\n",
      "\n",
      "Self-taught\n",
      "count    6030.000000\n",
      "mean        6.857214\n",
      "std         5.676875\n",
      "min         0.000000\n",
      "25%         2.000000\n",
      "50%         5.000000\n",
      "75%        10.000000\n",
      "max        20.000000\n",
      "Name: YearsCodedJob_num, dtype: float64\n",
      "\n",
      "\n",
      "Open source contributions\n",
      "count    2746.000000\n",
      "mean        7.607793\n",
      "std         5.695318\n",
      "min         0.000000\n",
      "25%         3.000000\n",
      "50%         6.000000\n",
      "75%        11.000000\n",
      "max        20.000000\n",
      "Name: YearsCodedJob_num, dtype: float64\n",
      "\n",
      "\n",
      "Bootcamp\n",
      "count    597.000000\n",
      "mean       6.969849\n",
      "std        6.625841\n",
      "min        0.000000\n",
      "25%        2.000000\n",
      "50%        4.000000\n",
      "75%       12.000000\n",
      "max       20.000000\n",
      "Name: YearsCodedJob_num, dtype: float64\n",
      "\n",
      "\n",
      "Coding competition\n",
      "count    1463.000000\n",
      "mean        6.040328\n",
      "std         5.232790\n",
      "min         0.000000\n",
      "25%         2.000000\n",
      "50%         4.000000\n",
      "75%         9.000000\n",
      "max        20.000000\n",
      "Name: YearsCodedJob_num, dtype: float64\n",
      "\n",
      "\n"
     ]
    }
   ],
   "source": [
    "for col in unique_EducationTypesList:\n",
    "    print(col)\n",
    "    print(df_EducationTypes[(df_EducationTypes[col] == 1) & (df_EducationTypes['Web developer'] == 1)]['YearsCodedJob_num'].describe())\n",
    "    print('\\n')"
   ]
  },
  {
   "cell_type": "code",
   "execution_count": 184,
   "metadata": {},
   "outputs": [
    {
     "data": {
      "text/plain": [
       "{' Built-in help',\n",
       " ' Company internal community',\n",
       " ' Friends network',\n",
       " ' Non-Stack online communities',\n",
       " ' Other',\n",
       " ' Stack Overflow Docs',\n",
       " ' Stack Overflow Q&A',\n",
       " ' Textbook',\n",
       " ' Trade book',\n",
       " ' Tutoring/mentoring',\n",
       " 'Built-in help',\n",
       " 'Company internal community',\n",
       " 'Friends network',\n",
       " 'Non-Stack online communities',\n",
       " 'Official documentation',\n",
       " 'Other',\n",
       " 'Stack Overflow Docs',\n",
       " 'Stack Overflow Q&A',\n",
       " 'Textbook',\n",
       " 'Trade book',\n",
       " 'Tutoring/mentoring'}"
      ]
     },
     "execution_count": 184,
     "metadata": {},
     "output_type": "execute_result"
    }
   ],
   "source": [
    "SelfTaughtTypesList = []\n",
    "df.SelfTaughtTypes.dropna().apply(lambda x : x.replace(';',',')).apply(lambda x : x.split(',')).apply(\n",
    "    lambda x : SelfTaughtTypesList.extend(x))\n",
    "set(SelfTaughtTypesList)"
   ]
  },
  {
   "cell_type": "code",
   "execution_count": 458,
   "metadata": {},
   "outputs": [
    {
     "data": {
      "text/plain": [
       "Text(0.5, 1.0, 'Controlling the effect of education and experience, Which skills are more important in terms of salary?')"
      ]
     },
     "execution_count": 458,
     "metadata": {},
     "output_type": "execute_result"
    },
    {
     "data": {
      "image/png": "[encoded data removed]",
      "text/plain": [
       "<Figure size 576x576 with 1 Axes>"
      ]
     },
     "metadata": {
      "needs_background": "light"
     },
     "output_type": "display_data"
    }
   ],
   "source": [
    "#plot bar chart\n",
    "plt.figure(figsize = (8,8))\n",
    "ax = sb.barplot(data = df_weights, y = 'EducationTypes', x = 'Importance',hue = 'Degree',palette = 'PuBuGn_r')\n",
    "       \n",
    "plt.ylabel('Education Types', fontsize = 16)\n",
    "plt.xlabel('Importance', fontsize = 16)\n",
    "plt.title('Controlling the effect of education and experience, Which skills are more important in terms of salary?',\n",
    "         fontsize = 16)"
   ]
  }
 ],
 "metadata": {
  "kernelspec": {
   "display_name": "Python 3",
   "language": "python",
   "name": "python3"
  },
  "language_info": {
   "codemirror_mode": {
    "name": "ipython",
    "version": 3
   },
   "file_extension": ".py",
   "mimetype": "text/x-python",
   "name": "python",
   "nbconvert_exporter": "python",
   "pygments_lexer": "ipython3",
   "version": "3.7.2"
  }
 },
 "nbformat": 4,
 "nbformat_minor": 4
}
